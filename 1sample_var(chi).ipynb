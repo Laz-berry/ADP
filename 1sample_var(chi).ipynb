{
 "cells": [
  {
   "cell_type": "markdown",
   "id": "93a17dcd-201a-4a6d-b7d2-f1daa099526d",
   "metadata": {},
   "source": [
    "금속 성분 함유량 데이터(변수 1개) - 제품에 금속 재질 함유량의 분산이 1.3을 넘으면 불량이라고 보고 있는데 제조사별로 차이가 난다고 제보를 받았다. 분산에 대해 검정을 수행하시오. (유의확률 0.05)\n",
    "\n",
    "- 1. 연구가설과 귀무가설 작성\n",
    "\n",
    "- 2. 양측 검정 시행\n",
    "\n",
    "- 3. 검정통계량, 가설채택"
   ]
  },
  {
   "cell_type": "code",
   "execution_count": 13,
   "id": "47582638-b905-46d3-a4a1-8a62290e71e2",
   "metadata": {
    "tags": []
   },
   "outputs": [
    {
     "data": {
      "text/html": [
       "<div>\n",
       "<style scoped>\n",
       "    .dataframe tbody tr th:only-of-type {\n",
       "        vertical-align: middle;\n",
       "    }\n",
       "\n",
       "    .dataframe tbody tr th {\n",
       "        vertical-align: top;\n",
       "    }\n",
       "\n",
       "    .dataframe thead th {\n",
       "        text-align: right;\n",
       "    }\n",
       "</style>\n",
       "<table border=\"1\" class=\"dataframe\">\n",
       "  <thead>\n",
       "    <tr style=\"text-align: right;\">\n",
       "      <th></th>\n",
       "      <th>content</th>\n",
       "    </tr>\n",
       "  </thead>\n",
       "  <tbody>\n",
       "    <tr>\n",
       "      <th>0</th>\n",
       "      <td>97.995295</td>\n",
       "    </tr>\n",
       "    <tr>\n",
       "      <th>1</th>\n",
       "      <td>101.478315</td>\n",
       "    </tr>\n",
       "    <tr>\n",
       "      <th>2</th>\n",
       "      <td>102.284913</td>\n",
       "    </tr>\n",
       "    <tr>\n",
       "      <th>3</th>\n",
       "      <td>98.993634</td>\n",
       "    </tr>\n",
       "    <tr>\n",
       "      <th>4</th>\n",
       "      <td>104.635232</td>\n",
       "    </tr>\n",
       "  </tbody>\n",
       "</table>\n",
       "</div>"
      ],
      "text/plain": [
       "      content\n",
       "0   97.995295\n",
       "1  101.478315\n",
       "2  102.284913\n",
       "3   98.993634\n",
       "4  104.635232"
      ]
     },
     "execution_count": 13,
     "metadata": {},
     "output_type": "execute_result"
    }
   ],
   "source": [
    "import pandas as pd\n",
    "import numpy as np\n",
    "df= pd.read_csv('https://raw.githubusercontent.com/Datamanim/datarepo/main/adp/22/content.csv')\n",
    "df.head()"
   ]
  },
  {
   "cell_type": "code",
   "execution_count": 12,
   "id": "1a09155a-6b24-4c2c-a10f-d09d0236c003",
   "metadata": {
    "tags": []
   },
   "outputs": [
    {
     "name": "stdout",
     "output_type": "stream",
     "text": [
      "p_value:  4.2726668647574684e-08\n",
      "statics:  328.2922980307293\n"
     ]
    }
   ],
   "source": [
    "# 파이썬에서는 단일 표본 분산검정/카이검정 패키지가 없어서 커스터마이징\n",
    "from scipy import stats\n",
    "def chi_var_test(x, var0, alter='two-sided'):\n",
    "    length = len(x)\n",
    "    \n",
    "    # 계산된 카이제곱통계 : 표본분산(length - 1) / 가설분산(var0)\n",
    "    chi_stat = (length-1) * np.var(x, ddof=1) / var0\n",
    "    \n",
    "    # 카이제곱분포의 누적 분포함수(CDF) = (chi_stat, length-1)\n",
    "    temp = stats.chi2.cdf(chi_stat, length-1)\n",
    "    \n",
    "    if alter == 'two-sided': # 양측 검정 시행\n",
    "        if temp > 0.5:\n",
    "            pval = 2*(1-temp)\n",
    "        else:\n",
    "            pval = 2*temp\n",
    "    elif alter == 'greater': # 크다는 단일 검정\n",
    "        pval = 1 - temp\n",
    "    elif alter == 'less': # 작다는 단일 검정\n",
    "        pval = temp\n",
    "    else:\n",
    "        print(\"ERROR\")\n",
    "    return chi_stat, pval\n",
    "\n",
    "# 1. 귀무가설 : 분산은 1.3이다. / 연구(대립)가설 : 분산은 1.3이 아니다.\n",
    "\n",
    "# 2. 양측 검정 시행\n",
    "chi_stat, p_val = chi_var_test(df['content'], var0=1.3, alter='two-sided')\n",
    "print('p_value: ', p_val)\n",
    "print('statics: ', chi_stat)\n",
    "\n",
    "# 3. 검정통계량\n",
    "# p_value는 4.2e-08의 값으로 유의수준 0.05보다 한참 낮은 수준으로\n",
    "# 귀무가설(분산이 1.3이다)을 기각함을 확인 할 수 있다."
   ]
  },
  {
   "cell_type": "code",
   "execution_count": null,
   "id": "a6563dff-48e2-4dc4-9952-7214906a4ee2",
   "metadata": {},
   "outputs": [],
   "source": []
  }
 ],
 "metadata": {
  "kernelspec": {
   "display_name": "Python 3 (ipykernel)",
   "language": "python",
   "name": "python3"
  },
  "language_info": {
   "codemirror_mode": {
    "name": "ipython",
    "version": 3
   },
   "file_extension": ".py",
   "mimetype": "text/x-python",
   "name": "python",
   "nbconvert_exporter": "python",
   "pygments_lexer": "ipython3",
   "version": "3.10.6"
  }
 },
 "nbformat": 4,
 "nbformat_minor": 5
}
