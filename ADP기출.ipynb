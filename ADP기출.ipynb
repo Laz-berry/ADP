{
 "cells": [
  {
   "cell_type": "markdown",
   "id": "ce3b91ed-fffc-4186-85bb-52e9d426ab10",
   "metadata": {},
   "source": [
    "### 서울에서 영동까지 100km/h로 가고 영동에서 서울까지 80km/로 돌아왔을 때, 평균 속도는?"
   ]
  },
  {
   "cell_type": "code",
   "execution_count": 1,
   "id": "d9ec0a55-2e8b-4ed2-8d85-0f51b0748773",
   "metadata": {
    "tags": []
   },
   "outputs": [
    {
     "name": "stdout",
     "output_type": "stream",
     "text": [
      "88.88888888888889\n"
     ]
    }
   ],
   "source": [
    "# 서울-영동, 영동-서울까지의 거리는 같다고 가정.\n",
    "# 편도거리를 D라고 했을 때, 걸린 시간\n",
    "D = 1\n",
    "time_A = D/100 #서울 to 영동\n",
    "time_B = D/80 # 영동 to 서울\n",
    "\n",
    "# Average speed = 2D(total_distance) / (time_A + time_B)\n",
    "\n",
    "print(2*D / (time_A + time_B))"
   ]
  },
  {
   "cell_type": "markdown",
   "id": "b1e5d55b-eaae-419d-a54a-ee6e98b7992f",
   "metadata": {},
   "source": [
    "### 연매출이 3000, 4000, 5000이었다면 연평균 몇배가 증가한 것인가?"
   ]
  },
  {
   "cell_type": "code",
   "execution_count": 2,
   "id": "8993724a-771a-4c7a-b69e-5cb4d1ace312",
   "metadata": {
    "tags": []
   },
   "outputs": [
    {
     "name": "stdout",
     "output_type": "stream",
     "text": [
      "1.2916666666666665\n"
     ]
    }
   ],
   "source": [
    "# 몇 배 = x, y\n",
    "x = 4000/3000\n",
    "y = 5000/4000\n",
    "\n",
    "print((x+y)/2)"
   ]
  },
  {
   "cell_type": "markdown",
   "id": "b343d2d6-6658-4897-bf7b-7a10c0c81207",
   "metadata": {},
   "source": [
    "### 남성, 여성의 등산, 수영에 대한 취미 선호도 빈도표(2x2)를 보고, 남성 중에서 등산을 좋아할 확률을 구하시오"
   ]
  },
  {
   "cell_type": "code",
   "execution_count": 3,
   "id": "7de5f71d-8045-4e5d-8cac-75c7694b73af",
   "metadata": {
    "tags": []
   },
   "outputs": [
    {
     "name": "stdout",
     "output_type": "stream",
     "text": [
      "0.6666666666666666\n"
     ]
    }
   ],
   "source": [
    "man = 30\n",
    "man_hiking =20\n",
    "\n",
    "print(man_hiking / man)"
   ]
  },
  {
   "cell_type": "markdown",
   "id": "53ecb893-d08b-43c0-bedc-4c129395f2c6",
   "metadata": {},
   "source": [
    "### 표본 10개의 분산이 90일 때 신뢰도 95%로 모분산의 신뢰구간을 추정"
   ]
  },
  {
   "cell_type": "code",
   "execution_count": 6,
   "id": "c521604c-2420-469c-ac4b-0a7319f2aa20",
   "metadata": {
    "tags": []
   },
   "outputs": [
    {
     "name": "stdout",
     "output_type": "stream",
     "text": [
      "2.7003894999803584 19.02276779864163\n",
      "299.95672846672363 42.58055444790953\n"
     ]
    }
   ],
   "source": [
    "import scipy.stats as stats\n",
    "\n",
    "var = 90\n",
    "size = 10\n",
    "\n",
    "dof = size - 1\n",
    "a = 0.05\n",
    "\n",
    "# 카이제곱 값 모듈\n",
    "chi2_lower = stats.chi2.ppf(a/2, dof)\n",
    "chi2_upper = stats.chi2.ppf(1-(a/2), dof)\n",
    "\n",
    "\n",
    "# 하한값 : (자유도 * 분산) / 카이제곱 값(큰 값으로)\n",
    "# 상한값 : (자유도 * 분산) / 카이제곱 값(작은 값으로)\n",
    "upper_bound = dof * var / chi2_lower\n",
    "lower_bound = dof * var / chi2_upper\n",
    "\n",
    "print(chi2_lower, chi2_upper)\n",
    "print(upper_bound, lower_bound)"
   ]
  },
  {
   "cell_type": "markdown",
   "id": "07f18905-9033-4a02-8b45-59fe748f86af",
   "metadata": {},
   "source": [
    "### 1개년 50억원, 2개년 60억원, 3개년 70억원의 예산을 가지고 NPV(순현재가치)가 가장 높아지는 안을 제시하시오"
   ]
  },
  {
   "cell_type": "code",
   "execution_count": 22,
   "id": "c90dfd09-e4cf-498c-a3d1-70ee320d3501",
   "metadata": {
    "tags": []
   },
   "outputs": [
    {
     "data": {
      "text/html": [
       "<div>\n",
       "<style scoped>\n",
       "    .dataframe tbody tr th:only-of-type {\n",
       "        vertical-align: middle;\n",
       "    }\n",
       "\n",
       "    .dataframe tbody tr th {\n",
       "        vertical-align: top;\n",
       "    }\n",
       "\n",
       "    .dataframe thead th {\n",
       "        text-align: right;\n",
       "    }\n",
       "</style>\n",
       "<table border=\"1\" class=\"dataframe\">\n",
       "  <thead>\n",
       "    <tr style=\"text-align: right;\">\n",
       "      <th></th>\n",
       "      <th>yr1</th>\n",
       "      <th>yr2</th>\n",
       "      <th>yr3</th>\n",
       "    </tr>\n",
       "  </thead>\n",
       "  <tbody>\n",
       "    <tr>\n",
       "      <th>1</th>\n",
       "      <td>10</td>\n",
       "      <td>20</td>\n",
       "      <td>15</td>\n",
       "    </tr>\n",
       "    <tr>\n",
       "      <th>2</th>\n",
       "      <td>15</td>\n",
       "      <td>14</td>\n",
       "      <td>19</td>\n",
       "    </tr>\n",
       "    <tr>\n",
       "      <th>3</th>\n",
       "      <td>12</td>\n",
       "      <td>11</td>\n",
       "      <td>30</td>\n",
       "    </tr>\n",
       "    <tr>\n",
       "      <th>4</th>\n",
       "      <td>13</td>\n",
       "      <td>25</td>\n",
       "      <td>20</td>\n",
       "    </tr>\n",
       "    <tr>\n",
       "      <th>5</th>\n",
       "      <td>16</td>\n",
       "      <td>30</td>\n",
       "      <td>24</td>\n",
       "    </tr>\n",
       "  </tbody>\n",
       "</table>\n",
       "</div>"
      ],
      "text/plain": [
       "   yr1  yr2  yr3\n",
       "1   10   20   15\n",
       "2   15   14   19\n",
       "3   12   11   30\n",
       "4   13   25   20\n",
       "5   16   30   24"
      ]
     },
     "execution_count": 22,
     "metadata": {},
     "output_type": "execute_result"
    }
   ],
   "source": [
    "from itertools import combinations \n",
    "import pandas as pd \n",
    "\n",
    "investment_df = pd.DataFrame([[10, 20, 15],\n",
    "                              [15, 14, 19], \n",
    "                              [12, 11, 30], \n",
    "                              [13, 25, 20], \n",
    "                              [16, 30, 24]], index=[1, 2, 3, 4, 5], columns=['yr1', 'yr2', 'yr3'])\n",
    "investment_df.head()"
   ]
  },
  {
   "cell_type": "code",
   "execution_count": 33,
   "id": "e1c84c4a-ecf5-44d8-9300-7faf87833c08",
   "metadata": {
    "tags": []
   },
   "outputs": [
    {
     "data": {
      "text/html": [
       "<div>\n",
       "<style scoped>\n",
       "    .dataframe tbody tr th:only-of-type {\n",
       "        vertical-align: middle;\n",
       "    }\n",
       "\n",
       "    .dataframe tbody tr th {\n",
       "        vertical-align: top;\n",
       "    }\n",
       "\n",
       "    .dataframe thead th {\n",
       "        text-align: right;\n",
       "    }\n",
       "</style>\n",
       "<table border=\"1\" class=\"dataframe\">\n",
       "  <thead>\n",
       "    <tr style=\"text-align: right;\">\n",
       "      <th></th>\n",
       "      <th>yr1</th>\n",
       "      <th>yr2</th>\n",
       "      <th>yr3</th>\n",
       "      <th>total</th>\n",
       "    </tr>\n",
       "  </thead>\n",
       "  <tbody>\n",
       "    <tr>\n",
       "      <th>(2, 3, 4)</th>\n",
       "      <td>40</td>\n",
       "      <td>50</td>\n",
       "      <td>69</td>\n",
       "      <td>159</td>\n",
       "    </tr>\n",
       "    <tr>\n",
       "      <th>(1, 3, 4)</th>\n",
       "      <td>35</td>\n",
       "      <td>56</td>\n",
       "      <td>65</td>\n",
       "      <td>156</td>\n",
       "    </tr>\n",
       "    <tr>\n",
       "      <th>(1, 2, 4)</th>\n",
       "      <td>38</td>\n",
       "      <td>59</td>\n",
       "      <td>54</td>\n",
       "      <td>151</td>\n",
       "    </tr>\n",
       "    <tr>\n",
       "      <th>(1, 2, 3)</th>\n",
       "      <td>37</td>\n",
       "      <td>45</td>\n",
       "      <td>64</td>\n",
       "      <td>146</td>\n",
       "    </tr>\n",
       "    <tr>\n",
       "      <th>(4, 5)</th>\n",
       "      <td>29</td>\n",
       "      <td>55</td>\n",
       "      <td>44</td>\n",
       "      <td>128</td>\n",
       "    </tr>\n",
       "    <tr>\n",
       "      <th>(3, 5)</th>\n",
       "      <td>28</td>\n",
       "      <td>41</td>\n",
       "      <td>54</td>\n",
       "      <td>123</td>\n",
       "    </tr>\n",
       "    <tr>\n",
       "      <th>(2, 5)</th>\n",
       "      <td>31</td>\n",
       "      <td>44</td>\n",
       "      <td>43</td>\n",
       "      <td>118</td>\n",
       "    </tr>\n",
       "    <tr>\n",
       "      <th>(1, 5)</th>\n",
       "      <td>26</td>\n",
       "      <td>50</td>\n",
       "      <td>39</td>\n",
       "      <td>115</td>\n",
       "    </tr>\n",
       "    <tr>\n",
       "      <th>(3, 4)</th>\n",
       "      <td>25</td>\n",
       "      <td>36</td>\n",
       "      <td>50</td>\n",
       "      <td>111</td>\n",
       "    </tr>\n",
       "    <tr>\n",
       "      <th>(2, 4)</th>\n",
       "      <td>28</td>\n",
       "      <td>39</td>\n",
       "      <td>39</td>\n",
       "      <td>106</td>\n",
       "    </tr>\n",
       "    <tr>\n",
       "      <th>(1, 4)</th>\n",
       "      <td>23</td>\n",
       "      <td>45</td>\n",
       "      <td>35</td>\n",
       "      <td>103</td>\n",
       "    </tr>\n",
       "    <tr>\n",
       "      <th>(2, 3)</th>\n",
       "      <td>27</td>\n",
       "      <td>25</td>\n",
       "      <td>49</td>\n",
       "      <td>101</td>\n",
       "    </tr>\n",
       "    <tr>\n",
       "      <th>(1, 3)</th>\n",
       "      <td>22</td>\n",
       "      <td>31</td>\n",
       "      <td>45</td>\n",
       "      <td>98</td>\n",
       "    </tr>\n",
       "    <tr>\n",
       "      <th>(1, 2)</th>\n",
       "      <td>25</td>\n",
       "      <td>34</td>\n",
       "      <td>34</td>\n",
       "      <td>93</td>\n",
       "    </tr>\n",
       "  </tbody>\n",
       "</table>\n",
       "</div>"
      ],
      "text/plain": [
       "           yr1  yr2  yr3  total\n",
       "(2, 3, 4)   40   50   69    159\n",
       "(1, 3, 4)   35   56   65    156\n",
       "(1, 2, 4)   38   59   54    151\n",
       "(1, 2, 3)   37   45   64    146\n",
       "(4, 5)      29   55   44    128\n",
       "(3, 5)      28   41   54    123\n",
       "(2, 5)      31   44   43    118\n",
       "(1, 5)      26   50   39    115\n",
       "(3, 4)      25   36   50    111\n",
       "(2, 4)      28   39   39    106\n",
       "(1, 4)      23   45   35    103\n",
       "(2, 3)      27   25   49    101\n",
       "(1, 3)      22   31   45     98\n",
       "(1, 2)      25   34   34     93"
      ]
     },
     "execution_count": 33,
     "metadata": {},
     "output_type": "execute_result"
    }
   ],
   "source": [
    "items = [1, 2, 3, 4, 5]\n",
    "\n",
    "# items의 요소 5개에 대해서, 2개씩, 3개씩 나눠주는 라이브러리\n",
    "combination_list = list(combinations(items, 2))+list(combinations(items, 3))\n",
    "\n",
    "result_df = pd.DataFrame() \n",
    "\n",
    "# 조합 갯수만큼 반복\n",
    "for c in combination_list: \n",
    "    \n",
    "    temp_df = pd.DataFrame()\n",
    "    \n",
    "    # item이 combination_list에 포함될 때, 해당 값들이 temp_df에 연결\n",
    "    # 그 다음, 현재 조합에 대한 총합 값이 temp_df에 연결되어 result_df에 저장됨\n",
    "    for item in items: \n",
    "        if item in c: \n",
    "            temp_df = pd.concat([temp_df, investment_df.loc[item]], axis=1) \n",
    "    result_df = pd.concat([result_df, temp_df.sum(axis=1)], axis=1)\n",
    "    \n",
    "result_df.columns = combination_list\n",
    "\n",
    "df_t = result_df.T # row와 col바꾸기\n",
    "df_t = df_t[(df_t['yr1'] < 50) & (df_t['yr2'] < 60) & (df_t['yr3'] < 70)]\n",
    "df_t['total'] = df_t.sum(axis=1)\n",
    "df_t.sort_values(by='total', ascending=False)"
   ]
  },
  {
   "cell_type": "markdown",
   "id": "f2d29c4c-b45d-445c-9a7c-6a2f8dab65d0",
   "metadata": {},
   "source": [
    "### 통계 : 철강제품의 불량률을 조사하고자 한다. 이 때, 불량률의 90%, 추정오차한계가 5% 이내가 되기 위하여 적절한 표본의 크기 중 최소값은 얼마인가?"
   ]
  },
  {
   "cell_type": "code",
   "execution_count": 34,
   "id": "efb42ba8-89bb-4fa1-8951-0f06e5ec6009",
   "metadata": {
    "tags": []
   },
   "outputs": [
    {
     "name": "stdout",
     "output_type": "stream",
     "text": [
      "270.60249999999996\n"
     ]
    }
   ],
   "source": [
    "# 최소 샘플 크기를 계산하려면 아래 요소를 고려\n",
    "# 1. 신뢰수준\n",
    "# 2. 추정 오차 한도\n",
    "# p의 값은 0.5를 대부분 사용함\n",
    "\n",
    "# 계산 식 샘플 크기(n) = (z-score^2 * p * (1-p)) / 추정 오차 한계^2\n",
    "print((1.645**2 * 0.5 * 0.5) / 0.05**2)"
   ]
  },
  {
   "cell_type": "code",
   "execution_count": null,
   "id": "c864eaf8-369d-43fe-988c-5e1b5bcd06fe",
   "metadata": {},
   "outputs": [],
   "source": []
  }
 ],
 "metadata": {
  "kernelspec": {
   "display_name": "Python 3 (ipykernel)",
   "language": "python",
   "name": "python3"
  },
  "language_info": {
   "codemirror_mode": {
    "name": "ipython",
    "version": 3
   },
   "file_extension": ".py",
   "mimetype": "text/x-python",
   "name": "python",
   "nbconvert_exporter": "python",
   "pygments_lexer": "ipython3",
   "version": "3.10.6"
  }
 },
 "nbformat": 4,
 "nbformat_minor": 5
}
