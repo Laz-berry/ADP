{
 "cells": [
  {
   "cell_type": "markdown",
   "id": "104d9d4c-ccb4-4ed3-a364-4684d9b7b320",
   "metadata": {},
   "source": [
    "### 공장 X,Y,Z의 평균 출하 소요시간을 여러 일자에 거쳐 측정한 데이터이다. 각 공장의 중위수의 차이가 존재하는지 확인하려 한다\n",
    "\n",
    "- 1. 귀무가설과 연구가설을 제시하시오\n",
    "\n",
    "- 2. 검정 후 귀무가설 기각 여부 제시"
   ]
  },
  {
   "cell_type": "code",
   "execution_count": 18,
   "id": "26cdd262-71bc-43b7-93ad-27a301f4f255",
   "metadata": {
    "tags": []
   },
   "outputs": [
    {
     "data": {
      "text/html": [
       "<div>\n",
       "<style scoped>\n",
       "    .dataframe tbody tr th:only-of-type {\n",
       "        vertical-align: middle;\n",
       "    }\n",
       "\n",
       "    .dataframe tbody tr th {\n",
       "        vertical-align: top;\n",
       "    }\n",
       "\n",
       "    .dataframe thead th {\n",
       "        text-align: right;\n",
       "    }\n",
       "</style>\n",
       "<table border=\"1\" class=\"dataframe\">\n",
       "  <thead>\n",
       "    <tr style=\"text-align: right;\">\n",
       "      <th></th>\n",
       "      <th>출하 소요시간</th>\n",
       "      <th>공장명</th>\n",
       "      <th>공장별 출하 소요시간 순위</th>\n",
       "    </tr>\n",
       "  </thead>\n",
       "  <tbody>\n",
       "    <tr>\n",
       "      <th>0</th>\n",
       "      <td>71</td>\n",
       "      <td>Z</td>\n",
       "      <td>11</td>\n",
       "    </tr>\n",
       "    <tr>\n",
       "      <th>1</th>\n",
       "      <td>75</td>\n",
       "      <td>X</td>\n",
       "      <td>14</td>\n",
       "    </tr>\n",
       "    <tr>\n",
       "      <th>2</th>\n",
       "      <td>71</td>\n",
       "      <td>X</td>\n",
       "      <td>12</td>\n",
       "    </tr>\n",
       "    <tr>\n",
       "      <th>3</th>\n",
       "      <td>53</td>\n",
       "      <td>Z</td>\n",
       "      <td>1</td>\n",
       "    </tr>\n",
       "    <tr>\n",
       "      <th>4</th>\n",
       "      <td>50</td>\n",
       "      <td>X</td>\n",
       "      <td>1</td>\n",
       "    </tr>\n",
       "  </tbody>\n",
       "</table>\n",
       "</div>"
      ],
      "text/plain": [
       "   출하 소요시간 공장명  공장별 출하 소요시간 순위\n",
       "0       71   Z              11\n",
       "1       75   X              14\n",
       "2       71   X              12\n",
       "3       53   Z               1\n",
       "4       50   X               1"
      ]
     },
     "execution_count": 18,
     "metadata": {},
     "output_type": "execute_result"
    }
   ],
   "source": [
    "import pandas as pd\n",
    "df= pd.read_csv('https://raw.githubusercontent.com/Datamanim/datarepo/main/adp/25/problem5.csv',encoding='cp949')\n",
    "df.head()"
   ]
  },
  {
   "cell_type": "code",
   "execution_count": 19,
   "id": "78d7ba6c-d663-40e4-aa00-69442f99d00a",
   "metadata": {
    "tags": []
   },
   "outputs": [
    {
     "name": "stdout",
     "output_type": "stream",
     "text": [
      "<class 'pandas.core.frame.DataFrame'>\n",
      "RangeIndex: 44 entries, 0 to 43\n",
      "Data columns (total 3 columns):\n",
      " #   Column          Non-Null Count  Dtype \n",
      "---  ------          --------------  ----- \n",
      " 0   출하 소요시간         44 non-null     int64 \n",
      " 1   공장명             44 non-null     object\n",
      " 2   공장별 출하 소요시간 순위  44 non-null     int64 \n",
      "dtypes: int64(2), object(1)\n",
      "memory usage: 1.2+ KB\n"
     ]
    }
   ],
   "source": [
    "df.info()"
   ]
  },
  {
   "cell_type": "code",
   "execution_count": 20,
   "id": "ef924d0e-7a88-4c61-bdf5-036bca3333cb",
   "metadata": {
    "tags": []
   },
   "outputs": [],
   "source": [
    "data_x = df[df['공장명'] == 'X']\n",
    "data_y = df[df['공장명'] == 'Y']\n",
    "data_z = df[df['공장명'] == 'Z']\n"
   ]
  },
  {
   "cell_type": "code",
   "execution_count": 22,
   "id": "747198b5-6f82-43c9-a5a7-ee52cf209a9d",
   "metadata": {
    "tags": []
   },
   "outputs": [],
   "source": [
    "# 1. 귀무가설 : 중위수의 차이가 존재하지 않는다.\n",
    "#    대립(연구가설) : 중위수의 차이가 존재한다.\n",
    "import numpy as np\n",
    "\n",
    "x = data_x['출하 소요시간'].to_numpy()\n",
    "y = data_y['출하 소요시간'].to_numpy()\n",
    "z = data_z['출하 소요시간'].to_numpy()"
   ]
  },
  {
   "cell_type": "code",
   "execution_count": 23,
   "id": "6dc2fb28-3591-42b6-8624-4f62f96252db",
   "metadata": {
    "tags": []
   },
   "outputs": [
    {
     "name": "stdout",
     "output_type": "stream",
     "text": [
      "0.7217886080379153 0.6970526702392181\n"
     ]
    }
   ],
   "source": [
    "from scipy.stats import kruskal\n",
    "statistic, p_value = kruskal(x, y, z)\n",
    "\n",
    "print(statistic, p_value)\n",
    "# p_value의 값이 유의수준 0.05의 값보다 높기 때문에, 귀무가설을 채택\n",
    "# 출하 소요시간에 대한 중위수의 차이가 존재하지 않는다."
   ]
  },
  {
   "cell_type": "code",
   "execution_count": null,
   "id": "d3b6aae4-2761-4d80-9da1-f53576d4b942",
   "metadata": {},
   "outputs": [],
   "source": []
  }
 ],
 "metadata": {
  "kernelspec": {
   "display_name": "Python 3 (ipykernel)",
   "language": "python",
   "name": "python3"
  },
  "language_info": {
   "codemirror_mode": {
    "name": "ipython",
    "version": 3
   },
   "file_extension": ".py",
   "mimetype": "text/x-python",
   "name": "python",
   "nbconvert_exporter": "python",
   "pygments_lexer": "ipython3",
   "version": "3.10.6"
  }
 },
 "nbformat": 4,
 "nbformat_minor": 5
}
