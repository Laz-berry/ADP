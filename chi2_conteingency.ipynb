{
 "cells": [
  {
   "cell_type": "markdown",
   "id": "468537c3-e580-433d-86d6-e749bf826374",
   "metadata": {},
   "source": [
    "### 아래 이미지와 같은 학과별 학점 분포 인원수 표가 있다. 학과와 성적이 관계있는지를 검정하라\n",
    "\n",
    "- 1. 귀무가설 연구가설 세우기\n",
    "\n",
    "- 2. 학과와 성적이 독립일 경우의 기댓값을 구하시오\n",
    "\n",
    "- 3. 검정통계량 및 연구 가설 채택 여부를 작성하라"
   ]
  },
  {
   "cell_type": "code",
   "execution_count": 20,
   "id": "155cd821-9b37-4473-90ad-7698c2a21147",
   "metadata": {
    "tags": []
   },
   "outputs": [
    {
     "data": {
      "text/html": [
       "<div>\n",
       "<style scoped>\n",
       "    .dataframe tbody tr th:only-of-type {\n",
       "        vertical-align: middle;\n",
       "    }\n",
       "\n",
       "    .dataframe tbody tr th {\n",
       "        vertical-align: top;\n",
       "    }\n",
       "\n",
       "    .dataframe thead th {\n",
       "        text-align: right;\n",
       "    }\n",
       "</style>\n",
       "<table border=\"1\" class=\"dataframe\">\n",
       "  <thead>\n",
       "    <tr style=\"text-align: right;\">\n",
       "      <th></th>\n",
       "      <th>사회과학</th>\n",
       "      <th>자연과학</th>\n",
       "      <th>공학</th>\n",
       "    </tr>\n",
       "  </thead>\n",
       "  <tbody>\n",
       "    <tr>\n",
       "      <th>1.5-2.5</th>\n",
       "      <td>15</td>\n",
       "      <td>25</td>\n",
       "      <td>10</td>\n",
       "    </tr>\n",
       "    <tr>\n",
       "      <th>2.5-3.5</th>\n",
       "      <td>60</td>\n",
       "      <td>69</td>\n",
       "      <td>77</td>\n",
       "    </tr>\n",
       "    <tr>\n",
       "      <th>3.5-4.5</th>\n",
       "      <td>24</td>\n",
       "      <td>5</td>\n",
       "      <td>13</td>\n",
       "    </tr>\n",
       "  </tbody>\n",
       "</table>\n",
       "</div>"
      ],
      "text/plain": [
       "         사회과학  자연과학  공학\n",
       "1.5-2.5    15    25  10\n",
       "2.5-3.5    60    69  77\n",
       "3.5-4.5    24     5  13"
      ]
     },
     "execution_count": 20,
     "metadata": {},
     "output_type": "execute_result"
    }
   ],
   "source": [
    "import pandas as pd\n",
    "\n",
    "df = pd.DataFrame({'사회과학':[15,60,24],'자연과학':[25,69,5],'공학':[10,77,13]})\n",
    "df.index = ['1.5-2.5','2.5-3.5','3.5-4.5']\n",
    "df.head()"
   ]
  },
  {
   "cell_type": "code",
   "execution_count": 21,
   "id": "567b55cb-baf7-4fcf-bc9f-324f6388adf4",
   "metadata": {
    "tags": []
   },
   "outputs": [],
   "source": [
    "# 1. 귀무가설 : 학과와 성적은 관련이 없다(독립), 연구가설 : 학과와 성적은 관련이 있다 "
   ]
  },
  {
   "cell_type": "code",
   "execution_count": 22,
   "id": "ba43c39a-9401-4257-893a-086807087b84",
   "metadata": {
    "tags": []
   },
   "outputs": [
    {
     "name": "stdout",
     "output_type": "stream",
     "text": [
      "[[16.61073826 16.61073826 16.77852349]\n",
      " [68.43624161 68.43624161 69.12751678]\n",
      " [13.95302013 13.95302013 14.09395973]]\n"
     ]
    }
   ],
   "source": [
    "# 2. 학과와 성적이 독립이 경우의 기댓값을 구하시오\n",
    "from scipy.stats import chi2_contingency, fisher_exact\n",
    "\n",
    "# 카이제곱, pvalue, 자유도, 기댓값\n",
    "chi2, p, dof, expected = chi2_contingency(df)\n",
    "print(expected)"
   ]
  },
  {
   "cell_type": "code",
   "execution_count": 26,
   "id": "8d408b44-af42-4ab9-a4ab-8b4355070e99",
   "metadata": {
    "tags": []
   },
   "outputs": [
    {
     "name": "stdout",
     "output_type": "stream",
     "text": [
      "0.00018822647762421383\n",
      "SignificanceResult(statistic=2.32987012987013, pvalue=0.1376875179202521)\n"
     ]
    }
   ],
   "source": [
    "# 3. 검정 통계량 및 연구 가설 채택 여부를 작성하라\n",
    "print(p)\n",
    "\n",
    "# 카이 제곱 검정시 p-value = 0.00018로 귀무가설을 기각, 학과와 성적은 관련이 있다.\n",
    "# 만약 5(검정된 기대빈도)보다 작은 셀(최소값)이 20%가 넘어간다면, 피셔의 정확검정을 사용해야한다.\n",
    "print(fisher_exact(df.iloc[0:2, 0:2]))"
   ]
  },
  {
   "cell_type": "code",
   "execution_count": null,
   "id": "776ff86e-eb32-4a2d-a20c-07ea1dfea4f0",
   "metadata": {},
   "outputs": [],
   "source": []
  }
 ],
 "metadata": {
  "kernelspec": {
   "display_name": "Python 3 (ipykernel)",
   "language": "python",
   "name": "python3"
  },
  "language_info": {
   "codemirror_mode": {
    "name": "ipython",
    "version": 3
   },
   "file_extension": ".py",
   "mimetype": "text/x-python",
   "name": "python",
   "nbconvert_exporter": "python",
   "pygments_lexer": "ipython3",
   "version": "3.10.6"
  }
 },
 "nbformat": 4,
 "nbformat_minor": 5
}
