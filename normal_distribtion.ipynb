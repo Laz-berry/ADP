{
 "cells": [
  {
   "cell_type": "code",
   "execution_count": 6,
   "id": "d1eff2c4-e1c2-489c-8ace-696be3efd653",
   "metadata": {
    "tags": []
   },
   "outputs": [],
   "source": [
    "import numpy as np\n",
    "import pandas as pd"
   ]
  },
  {
   "cell_type": "code",
   "execution_count": 7,
   "id": "3caf84af-b71c-4fc5-8da8-6b62d89baa83",
   "metadata": {
    "tags": []
   },
   "outputs": [],
   "source": [
    "a = [3.1, 3.3, 3.5, 3.7, 3.9, 4.1, 4.3, 4.4, 4.7]"
   ]
  },
  {
   "cell_type": "markdown",
   "id": "be0abf67-6f28-4d74-ac28-d2b49e7abab9",
   "metadata": {},
   "source": [
    "### a에 대한 신뢰구간을 구하려한다."
   ]
  },
  {
   "cell_type": "markdown",
   "id": "8bf29a42-79a7-4aff-aa02-fcc9fde6d3f8",
   "metadata": {},
   "source": [
    "#### 1. 모분산을 모르는 경우 주어진 데이터의 95% 신뢰구간을 구하라\n",
    "\n",
    "##### 1) 표본 평균, 표본 편차를 구함\n",
    "##### 2) 자유도(df) = 샘플크기(n) -1\n",
    "##### 3) 95%에 대한 신뢰구간은 a = 0.05지만, 정규분포를 따르므로 a = 0.025\n",
    "##### 4) t-분포표를 통해 신뢰도와 자유도에 따른 임계값(t*)를 구함\n",
    "##### 5) 표준 오차(SE) = s / sqrt(n)\n",
    "##### 6) 오차 한계(ME) = t*(임계값) * SE\n",
    "\n",
    "#### So, 신뢰구간 = 표본 평균 +- ME(오차 한계)"
   ]
  },
  {
   "cell_type": "code",
   "execution_count": 28,
   "id": "e7c98fee-1619-45fa-a2df-a8a098fd6961",
   "metadata": {
    "tags": []
   },
   "outputs": [
    {
     "name": "stdout",
     "output_type": "stream",
     "text": [
      "[ 3.612359496511097 , 4.387640503488903 ]\n"
     ]
    }
   ],
   "source": [
    "x = round(np.mean(a), 0)\n",
    "s = np.std(a)\n",
    "\n",
    "n = len(a)\n",
    "\n",
    "limit_t = 2.306\n",
    "\n",
    "se = s / n**0.5\n",
    "me = limit_t * se\n",
    "\n",
    "print('[', + x-me, ',', + x+me, ']')"
   ]
  },
  {
   "cell_type": "markdown",
   "id": "9225ca4c-1b7c-4367-8aef-4b1962727a34",
   "metadata": {},
   "source": [
    "#### 2. 2sigma = 0.04 경우 주어진 데이터의 95% 신뢰구간을 구하라\n",
    "\n",
    "##### 1) 표본 평균, 표본 편차를 구함\n",
    "##### 5) 표준 오차(SE) = 1sigma / sqrt(n)\n",
    "##### 6) 오차 한계(ME) = n * SE      <-- n은 2시그마 일 때, 2의 값을 가짐\n",
    "\n",
    "#### So, 신뢰구간 = 표본 평균 +- ME(오차 한계)"
   ]
  },
  {
   "cell_type": "code",
   "execution_count": 29,
   "id": "4028e3f1-000f-4f7b-99fe-b1c698948acd",
   "metadata": {
    "tags": []
   },
   "outputs": [
    {
     "name": "stdout",
     "output_type": "stream",
     "text": [
      "[ 3.986666666666667 , 4.013333333333334 ]\n"
     ]
    }
   ],
   "source": [
    "x = round(np.mean(a), 0)\n",
    "s = np.std(a)\n",
    "sigma = 0.02\n",
    "\n",
    "n = len(a)\n",
    "\n",
    "se = sigma / n**0.5\n",
    "me = 2 * se\n",
    "\n",
    "print('[', + x-me, ',', + x+me, ']')"
   ]
  },
  {
   "cell_type": "code",
   "execution_count": null,
   "id": "b73c5b5a-bddf-43be-bed0-dc992ad58d23",
   "metadata": {},
   "outputs": [],
   "source": []
  }
 ],
 "metadata": {
  "kernelspec": {
   "display_name": "Python 3 (ipykernel)",
   "language": "python",
   "name": "python3"
  },
  "language_info": {
   "codemirror_mode": {
    "name": "ipython",
    "version": 3
   },
   "file_extension": ".py",
   "mimetype": "text/x-python",
   "name": "python",
   "nbconvert_exporter": "python",
   "pygments_lexer": "ipython3",
   "version": "3.10.6"
  }
 },
 "nbformat": 4,
 "nbformat_minor": 5
}
