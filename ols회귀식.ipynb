{
 "cells": [
  {
   "cell_type": "markdown",
   "id": "414a5d90-3d41-4d4c-8962-a10e69d79311",
   "metadata": {},
   "source": [
    "### 광고횟수와 광고비에 따른 매출액의 데이터이다\n",
    "\n",
    "- 1. 광고비 변수를 가변수 처리후 다중회귀를 수행하여 회귀계수가 유의한지 검정\n",
    "\n",
    "- 2. 회귀식이 유의한지 판단"
   ]
  },
  {
   "cell_type": "code",
   "execution_count": 32,
   "id": "68dd4473-4854-4bbf-bd01-6cefb1cb5364",
   "metadata": {
    "tags": []
   },
   "outputs": [
    {
     "data": {
      "text/html": [
       "<div>\n",
       "<style scoped>\n",
       "    .dataframe tbody tr th:only-of-type {\n",
       "        vertical-align: middle;\n",
       "    }\n",
       "\n",
       "    .dataframe tbody tr th {\n",
       "        vertical-align: top;\n",
       "    }\n",
       "\n",
       "    .dataframe thead th {\n",
       "        text-align: right;\n",
       "    }\n",
       "</style>\n",
       "<table border=\"1\" class=\"dataframe\">\n",
       "  <thead>\n",
       "    <tr style=\"text-align: right;\">\n",
       "      <th></th>\n",
       "      <th>광고횟수</th>\n",
       "      <th>광고비</th>\n",
       "      <th>매출액</th>\n",
       "    </tr>\n",
       "  </thead>\n",
       "  <tbody>\n",
       "    <tr>\n",
       "      <th>0</th>\n",
       "      <td>2</td>\n",
       "      <td>낮음</td>\n",
       "      <td>15</td>\n",
       "    </tr>\n",
       "    <tr>\n",
       "      <th>1</th>\n",
       "      <td>3</td>\n",
       "      <td>낮음</td>\n",
       "      <td>16</td>\n",
       "    </tr>\n",
       "    <tr>\n",
       "      <th>2</th>\n",
       "      <td>4</td>\n",
       "      <td>낮음</td>\n",
       "      <td>17</td>\n",
       "    </tr>\n",
       "    <tr>\n",
       "      <th>3</th>\n",
       "      <td>4</td>\n",
       "      <td>높음</td>\n",
       "      <td>18</td>\n",
       "    </tr>\n",
       "    <tr>\n",
       "      <th>4</th>\n",
       "      <td>5</td>\n",
       "      <td>높음</td>\n",
       "      <td>20</td>\n",
       "    </tr>\n",
       "  </tbody>\n",
       "</table>\n",
       "</div>"
      ],
      "text/plain": [
       "   광고횟수 광고비  매출액\n",
       "0     2  낮음   15\n",
       "1     3  낮음   16\n",
       "2     4  낮음   17\n",
       "3     4  높음   18\n",
       "4     5  높음   20"
      ]
     },
     "execution_count": 32,
     "metadata": {},
     "output_type": "execute_result"
    }
   ],
   "source": [
    "import pandas as pd\n",
    "\n",
    "df= pd.read_csv('https://raw.githubusercontent.com/Datamanim/datarepo/main/adp/24/problem2.csv',encoding='cp949')\n",
    "df.head()"
   ]
  },
  {
   "cell_type": "code",
   "execution_count": 33,
   "id": "e9f29457-0ec8-425f-be2f-f960629ab816",
   "metadata": {
    "tags": []
   },
   "outputs": [
    {
     "name": "stdout",
     "output_type": "stream",
     "text": [
      "const: 2.011914203449039e-08\n",
      "광고횟수: 4.935242822849241e-08\n",
      "광고비: 0.3579628773149464\n"
     ]
    }
   ],
   "source": [
    "# 1. 광고비 변수를 가변수 처리\n",
    "df['광고비'] = df['광고비'].map({'낮음':0, '높음':1})\n",
    "\n",
    "# 다중회귀를 수행하여 회귀계수가 유의한지 검정\n",
    "import statsmodels.api as sm\n",
    "\n",
    "# X의 값에 const(값 = 1.0) 추가\n",
    "X = sm.add_constant(df[['광고횟수', '광고비']])\n",
    "\n",
    "model = sm.OLS(df['매출액'], X).fit()\n",
    "\n",
    "for variable, p_value in zip(X.columns, model.pvalues):\n",
    "    print(f'{variable}: {p_value}')\n",
    "    \n",
    "# 귀무가설 : 회귀식이 유의하지않다, 대립가설 : 유의하다.\n",
    "# 회귀 계수의 p-value값을 추출 했을 때 광고비만 0.05를 넘음, 귀무가설 채택"
   ]
  },
  {
   "cell_type": "code",
   "execution_count": 34,
   "id": "84a64ea7-a724-4547-a9c4-0c413fe39ae1",
   "metadata": {
    "tags": []
   },
   "outputs": [
    {
     "name": "stdout",
     "output_type": "stream",
     "text": [
      "                            OLS Regression Results                            \n",
      "==============================================================================\n",
      "Dep. Variable:                    매출액   R-squared:                       0.982\n",
      "Model:                            OLS   Adj. R-squared:                  0.978\n",
      "Method:                 Least Squares   F-statistic:                     221.2\n",
      "Date:                Thu, 08 Jun 2023   Prob (F-statistic):           9.96e-08\n",
      "Time:                        12:22:48   Log-Likelihood:                -11.883\n",
      "No. Observations:                  11   AIC:                             29.77\n",
      "Df Residuals:                       8   BIC:                             30.96\n",
      "Df Model:                           2                                         \n",
      "Covariance Type:            nonrobust                                         \n",
      "==============================================================================\n",
      "                 coef    std err          t      P>|t|      [0.025      0.975]\n",
      "------------------------------------------------------------------------------\n",
      "const         12.1641      0.556     21.876      0.000      10.882      13.446\n",
      "광고횟수           1.4350      0.074     19.518      0.000       1.265       1.605\n",
      "광고비            0.5227      0.536      0.975      0.358      -0.713       1.759\n",
      "==============================================================================\n",
      "Omnibus:                        7.665   Durbin-Watson:                   0.919\n",
      "Prob(Omnibus):                  0.022   Jarque-Bera (JB):                3.407\n",
      "Skew:                           1.265   Prob(JB):                        0.182\n",
      "Kurtosis:                       4.015   Cond. No.                         18.9\n",
      "==============================================================================\n",
      "\n",
      "Notes:\n",
      "[1] Standard Errors assume that the covariance matrix of the errors is correctly specified.\n"
     ]
    },
    {
     "name": "stderr",
     "output_type": "stream",
     "text": [
      "/home/joon/.local/lib/python3.10/site-packages/scipy/stats/_stats_py.py:1736: UserWarning: kurtosistest only valid for n>=20 ... continuing anyway, n=11\n",
      "  warnings.warn(\"kurtosistest only valid for n>=20 ... continuing \"\n"
     ]
    }
   ],
   "source": [
    "# 2. 회귀식이 유의한지 판단\n",
    "print(model.summary())\n",
    "\n",
    "# F-static의 Prob는 9.96e-08로 대립가설 채택"
   ]
  },
  {
   "cell_type": "code",
   "execution_count": null,
   "id": "8a3f9e29-1da9-469c-8dc3-992d9394df82",
   "metadata": {},
   "outputs": [],
   "source": []
  }
 ],
 "metadata": {
  "kernelspec": {
   "display_name": "Python 3 (ipykernel)",
   "language": "python",
   "name": "python3"
  },
  "language_info": {
   "codemirror_mode": {
    "name": "ipython",
    "version": 3
   },
   "file_extension": ".py",
   "mimetype": "text/x-python",
   "name": "python",
   "nbconvert_exporter": "python",
   "pygments_lexer": "ipython3",
   "version": "3.10.6"
  }
 },
 "nbformat": 4,
 "nbformat_minor": 5
}
