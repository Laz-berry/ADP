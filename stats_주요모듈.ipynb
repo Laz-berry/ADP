{
 "cells": [
  {
   "cell_type": "code",
   "execution_count": 3,
   "id": "4cbedbd1-1cda-43c5-b3ea-79cccac10ea9",
   "metadata": {
    "tags": []
   },
   "outputs": [
    {
     "data": {
      "text/plain": [
       "'\\nscipy.stats\\n│\\n├── 01 T-test\\n│   │\\n│   ├── ttest_1samp         (단일표본 t검정)\\n│   ├── ttest_ind           (독립표본 t검정)\\n│   └── ttest_rel           (대응표본 t검정) \\n│ \\n├── 02 비모수 검정\\n│   │\\n│   ├── mannwhitneyu        (맨-휘트니 U 검정 - 중위수 , 윌콕슨 순위합 검정과 동일하다 볼 수 있음)\\n│   ├── ranksums            (윌콕슨 순위합 검정 - 중위수)\\n│   └── wilcoxon            (윌콕슨 부호 순위합 검정)\\n│ \\n├── 03 정규정 검정\\n│   │\\n│   ├── anderson            (Anderson-Darling , 데이터수가 상대적으로 많을 때)\\n│   ├── kstest              (Kolmogorov-Smirnov , 데이터수가 상대적으로 많을 때)\\n│   ├── mstats.normaltest\\n│   └── shapiro             (shapiro, 노말분포 가장 엄격하게 검정, 데이터수가 상대적으로 적을때)\\n│   \\n├── 04 등분산 검정\\n│   │\\n│   ├── bartlett\\n│   ├── fligner\\n│   └── levene\\n│\\n├── 05 카이제곱검정\\n│   │\\n│   ├── chi2_contingency     (카이제곱독립검정, 독립성 검정)\\n│   ├── chisquare            (카이제곱검정 , 적합도 검정)\\n│   └── fisher_exact         (피셔 정확 검정 - 빈도수가 5개 이하 셀의 수가 전체 셀의 20%이상일 경우 사용 )\\n│\\n└── 06 ANOVA (일원분산분석)\\n    │\\n    └── f_oneway (분산 분석은  statmodels 모듈이 더 좋음! )\\n'"
      ]
     },
     "execution_count": 3,
     "metadata": {},
     "output_type": "execute_result"
    }
   ],
   "source": [
    "scipy.stats\n",
    "│\n",
    "├── 01 T-test\n",
    "│   │\n",
    "│   ├── ttest_1samp         (단일표본 t검정)\n",
    "│   ├── ttest_ind           (독립표본 t검정)\n",
    "│   └── ttest_rel           (대응표본 t검정) \n",
    "│ \n",
    "├── 02 비모수 검정\n",
    "│   │\n",
    "│   ├── mannwhitneyu        (맨-휘트니 U 검정 - 중위수 , 윌콕슨 순위합 검정과 동일하다 볼 수 있음)\n",
    "│   ├── ranksums            (윌콕슨 순위합 검정 - 중위수)\n",
    "│   ├── Kruskal             (크루스컬 - 중위수, 3개 이상의 그룹 간의 차이점 분석가능)\n",
    "│   └── wilcoxon            (윌콕슨 부호 순위합 검정)\n",
    "│ \n",
    "├── 03 정규정 검정\n",
    "│   │\n",
    "│   ├── anderson            (Anderson-Darling , 데이터수가 상대적으로 많을 때)\n",
    "│   ├── kstest              (Kolmogorov-Smirnov , 데이터수가 상대적으로 많을 때)\n",
    "│   ├── mstats.normaltest\n",
    "│   └── shapiro             (shapiro, 노말분포 가장 엄격하게 검정, 데이터수가 상대적으로 적을때)\n",
    "│   \n",
    "├── 04 등분산 검정\n",
    "│   │\n",
    "│   ├── bartlett\n",
    "│   ├── fligner\n",
    "│   └── levene\n",
    "│\n",
    "├── 05 카이제곱검정\n",
    "│   │\n",
    "│   ├── chi2_contingency     (카이제곱독립검정, 독립성 검정)\n",
    "│   ├── chisquare            (카이제곱검정 , 적합도 검정)\n",
    "│   └── fisher_exact         (피셔 정확 검정 - 빈도수가 5개 이하 셀의 수가 전체 셀의 20%이상일 경우 사용 )\n",
    "│\n",
    "└── 06 ANOVA (일원분산분석)\n",
    "    │\n",
    "    └── f_oneway (분산 분석은  statmodels 모듈이 더 좋음! )"
   ]
  },
  {
   "cell_type": "code",
   "execution_count": null,
   "id": "f973440b-3c59-4041-966c-42568f172310",
   "metadata": {},
   "outputs": [],
   "source": []
  }
 ],
 "metadata": {
  "kernelspec": {
   "display_name": "Python 3 (ipykernel)",
   "language": "python",
   "name": "python3"
  },
  "language_info": {
   "codemirror_mode": {
    "name": "ipython",
    "version": 3
   },
   "file_extension": ".py",
   "mimetype": "text/x-python",
   "name": "python",
   "nbconvert_exporter": "python",
   "pygments_lexer": "ipython3",
   "version": "3.10.6"
  }
 },
 "nbformat": 4,
 "nbformat_minor": 5
}
