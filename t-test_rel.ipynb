{
 "cells": [
  {
   "cell_type": "markdown",
   "id": "70011def-42ad-4c64-a11e-09929ddc9a57",
   "metadata": {},
   "source": [
    "### 임상 대상 20명에 대해 혈압약 투약 이전과 이후의 차이가 24, 표준편차 9  신뢰구간 95%, 차이가 존재하는지 확인하려한다\n",
    "\n",
    "- 1. 귀무가설과 연구가설을 제시하시오\n",
    "\n",
    "- 2. 검정 후 귀무가설 기각 여부 제시"
   ]
  },
  {
   "cell_type": "code",
   "execution_count": 2,
   "id": "a8ba359a-504d-4748-93dc-870e9edf2cae",
   "metadata": {
    "tags": []
   },
   "outputs": [],
   "source": [
    "# 1. 귀무가설 : 차이가 존재하지 않음, 연구가설 : 차이가 존재함"
   ]
  },
  {
   "cell_type": "code",
   "execution_count": 4,
   "id": "18d47f00-a4d3-432b-9c46-307fac892abc",
   "metadata": {
    "tags": []
   },
   "outputs": [
    {
     "name": "stdout",
     "output_type": "stream",
     "text": [
      "11.925695879998878\n"
     ]
    }
   ],
   "source": [
    "# 혈압, 약물 차이와 같은 데이터는 t-test를 수행\n",
    "# 전, 후의 평균을 비교하는 것이므로 대응 t-test 수행\n",
    "# t-통계량을 계산\n",
    "# t = (평균 차이 - 가설 평균) / (표준 편차 / sqrt(n))\n",
    "# 이 경우 가설 평균은 0 (일반적인 관행)\n",
    "\n",
    "t = 24 / (9 / 20**0.5)\n",
    "print(t)"
   ]
  },
  {
   "cell_type": "code",
   "execution_count": 6,
   "id": "46c182bf-0b85-4bc8-9f3b-3a1a6f71f8c3",
   "metadata": {
    "tags": []
   },
   "outputs": [
    {
     "name": "stdout",
     "output_type": "stream",
     "text": [
      "2.093024054408263 -2.0930240544082634\n"
     ]
    }
   ],
   "source": [
    "from scipy.stats import t\n",
    "\n",
    "a = 0.05\n",
    "dof = 19\n",
    "\n",
    "lower_t = t.ppf(1-a/2, dof)\n",
    "upper_t = t.ppf(a/2, dof)\n",
    "\n",
    "\n",
    "print(lower_t, upper_t)\n",
    "# 계산된 t-통계량 11.92는 임계-t 값을 벗어났기에 귀무가설을 기각,\n",
    "# 약물 투약 이후 차이가 존재함"
   ]
  },
  {
   "cell_type": "code",
   "execution_count": null,
   "id": "ebf2e3b7-519e-44d2-b66e-26a0a4b16c08",
   "metadata": {},
   "outputs": [],
   "source": []
  }
 ],
 "metadata": {
  "kernelspec": {
   "display_name": "Python 3 (ipykernel)",
   "language": "python",
   "name": "python3"
  },
  "language_info": {
   "codemirror_mode": {
    "name": "ipython",
    "version": 3
   },
   "file_extension": ".py",
   "mimetype": "text/x-python",
   "name": "python",
   "nbconvert_exporter": "python",
   "pygments_lexer": "ipython3",
   "version": "3.10.6"
  }
 },
 "nbformat": 4,
 "nbformat_minor": 5
}
