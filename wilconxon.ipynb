{
 "cells": [
  {
   "cell_type": "markdown",
   "id": "b5a6fe5a-ebd3-4b96-a24c-d094b24d2cd7",
   "metadata": {},
   "source": [
    "공장에서는 진공관 수명이 1만 시간이라고 주장하여 품질관리팀에서 12개 샘플을 뽑았음 유의수준 5%에서 부호 검정하시오\n",
    "\n",
    "- 1. 귀무가설 연구가설 세우기\n",
    "\n",
    "- 2. 유효한 데이터의 숫자는?\n",
    "\n",
    "- 3. 검정통계량 및 연구 가설 채택 여부를 작성하라"
   ]
  },
  {
   "cell_type": "code",
   "execution_count": 12,
   "id": "44a48049-3752-42fe-8fe2-f22a415d3009",
   "metadata": {
    "tags": []
   },
   "outputs": [
    {
     "data": {
      "text/plain": [
       "10000.0"
      ]
     },
     "execution_count": 12,
     "metadata": {},
     "output_type": "execute_result"
    }
   ],
   "source": [
    "import pandas as pd\n",
    "df =pd.read_csv('https://raw.githubusercontent.com/Datamanim/datarepo/main/adp/23/problem2.csv')\n",
    "df['life span'].median()"
   ]
  },
  {
   "cell_type": "code",
   "execution_count": 3,
   "id": "1691be62-2c98-400b-979d-7be4c0c7d870",
   "metadata": {
    "tags": []
   },
   "outputs": [],
   "source": [
    "# 1. 귀무가설 : 진공관 수명이 1만 시간, 대립가설 : 진공관 수명이 1만 시간이 아님"
   ]
  },
  {
   "cell_type": "code",
   "execution_count": 7,
   "id": "5b6bf25b-e9cd-464a-a94b-3a462fa7391e",
   "metadata": {
    "tags": []
   },
   "outputs": [
    {
     "name": "stdout",
     "output_type": "stream",
     "text": [
      "유효한 데이터 수:  8\n"
     ]
    }
   ],
   "source": [
    "# 2. 유효한 데이터 숫자 => 중위수(평균, 중앙값)와 동일한 값들은 부호 검정에서 불필요한 데이터\n",
    "print('유효한 데이터 수: ', len(df) - len(df[df['life span']==10000]))"
   ]
  },
  {
   "cell_type": "markdown",
   "id": "eacf981c-063c-4d9e-8672-c9f46a1e16a3",
   "metadata": {},
   "source": [
    "### 비모수적 검정의 판단 과정\n",
    "-    1. 관측된 자료가 특정분포를 따른다고 가정할 수 없는 경우.\n",
    "-    2. 관측된 자료의 수가 30개 미만으로 적은 경우.\n",
    "-    3. 자료가 개체간의 서열관게를 나타내는 경우.\n",
    "\n",
    "### 비모수적 검정방법\n",
    "-    1. 부호검정\n",
    "-    2. 윌콕슨의 순위합검정\n",
    "-    3. 윌콕슨의 부호순위합검정\n",
    "-    4. 만-위트니의U검정\n",
    "-    5. 런검정\n",
    "-    6. 스피어만의 순위상관계수"
   ]
  },
  {
   "cell_type": "code",
   "execution_count": 13,
   "id": "d503d349-4198-4121-8d1e-0898aa5bf261",
   "metadata": {
    "tags": []
   },
   "outputs": [
    {
     "name": "stdout",
     "output_type": "stream",
     "text": [
      "8.5 0.1953125\n"
     ]
    }
   ],
   "source": [
    "# 3. 검정통계량 및 연구 가설 채택 여부 작성\n",
    "\n",
    "df_filter = df[df['life span'] != 10000]\n",
    "\n",
    "from scipy.stats import wilcoxon\n",
    "\n",
    "# 필터링한 데이터를 중앙값인 10000과 비교하여 윌콕슨 부호-순위검정 수행\n",
    "static, pvalue = wilcoxon(df_filter['life span']-10000)\n",
    "\n",
    "print(static, pvalue)\n",
    "# p-value가 0.05보다 크므로 귀무가설을 기각하지 않음, 연구가설을 채택하지 않는다."
   ]
  },
  {
   "cell_type": "code",
   "execution_count": null,
   "id": "7aa90f8a-6241-4896-9769-97f82c8ef705",
   "metadata": {},
   "outputs": [],
   "source": []
  }
 ],
 "metadata": {
  "kernelspec": {
   "display_name": "Python 3 (ipykernel)",
   "language": "python",
   "name": "python3"
  },
  "language_info": {
   "codemirror_mode": {
    "name": "ipython",
    "version": 3
   },
   "file_extension": ".py",
   "mimetype": "text/x-python",
   "name": "python",
   "nbconvert_exporter": "python",
   "pygments_lexer": "ipython3",
   "version": "3.10.6"
  }
 },
 "nbformat": 4,
 "nbformat_minor": 5
}
