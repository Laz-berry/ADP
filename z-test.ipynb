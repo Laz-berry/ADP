{
 "cells": [
  {
   "cell_type": "markdown",
   "id": "d978742a-d2f7-4c71-bb1b-0cda067088f3",
   "metadata": {},
   "source": [
    "#### 각 공장별로 12개의 제품을 추출하여 구한 정보가 A생산라인의 제품 평균은 5.7mm이고 표준편차는 0.03, B생산라인의 제품 평균은 5.6mm이고 표준편차는 0.04라면 5%유의수준으로 두 제품의 평균이 차이가 있는지 여부를 검정하기 Z(0.05) = 1.65\n",
    "\n",
    "- 1. 귀무가설과 대립가설을 세워라\n",
    "\n",
    "- 2. 두 평균이 차이가 있는지 검정하라"
   ]
  },
  {
   "cell_type": "code",
   "execution_count": 11,
   "id": "df33f74b-44c7-43e2-9841-0dbe9be2b1cb",
   "metadata": {
    "tags": []
   },
   "outputs": [
    {
     "name": "stdout",
     "output_type": "stream",
     "text": [
      "6.928203230275546\n"
     ]
    }
   ],
   "source": [
    "import numpy as np\n",
    "from scipy import stats\n",
    "\n",
    "# A생산라인\n",
    "mean_A = 5.7\n",
    "std_A = 0.03\n",
    "\n",
    "# B생산라인\n",
    "mean_B = 5.6\n",
    "std_B = 0.04\n",
    "\n",
    "# 데이터 갯수\n",
    "n = 12\n",
    "\n",
    "# 검정결과\n",
    "# 2-sample z-test에 대한 z-score계산식\n",
    "# 분자 : 두 집단의 평균의 차이, 분모 : 평균 차이에 대한 표준 오차 & 샘플의 크기 n로 변동성 고려\n",
    "\n",
    "z_score = (mean_A - mean_B) / np.sqrt(std_A**2/n + std_B**2/n)\n",
    "print(z_score)"
   ]
  },
  {
   "cell_type": "code",
   "execution_count": 9,
   "id": "9973f412-7786-4727-84f9-56635130a966",
   "metadata": {
    "tags": []
   },
   "outputs": [],
   "source": [
    "# 1. 귀무가설 : 두 제품의 평균의 차이가 없다. \n",
    "#    대립가설 : 두 제품의 평균의 차이가 있다."
   ]
  },
  {
   "cell_type": "code",
   "execution_count": 13,
   "id": "ec54bef6-509f-4a4c-afa9-a11d1fd413f1",
   "metadata": {
    "tags": []
   },
   "outputs": [
    {
     "name": "stdout",
     "output_type": "stream",
     "text": [
      "귀무가설을 기각, 두 제품의 평균의 차이가 있다.\n"
     ]
    }
   ],
   "source": [
    "if z_score > 1.65 or z_score < -1.65:\n",
    "    print(\"귀무가설을 기각, 두 제품의 평균의 차이가 있다.\")\n",
    "else:\n",
    "    print(\"귀무가설을 채택, 두 제품의 평균의 차이는 없다.\")"
   ]
  },
  {
   "cell_type": "code",
   "execution_count": null,
   "id": "09418ada-8882-498d-aa87-798dfd40b3c5",
   "metadata": {},
   "outputs": [],
   "source": []
  }
 ],
 "metadata": {
  "kernelspec": {
   "display_name": "Python 3 (ipykernel)",
   "language": "python",
   "name": "python3"
  },
  "language_info": {
   "codemirror_mode": {
    "name": "ipython",
    "version": 3
   },
   "file_extension": ".py",
   "mimetype": "text/x-python",
   "name": "python",
   "nbconvert_exporter": "python",
   "pygments_lexer": "ipython3",
   "version": "3.10.6"
  }
 },
 "nbformat": 4,
 "nbformat_minor": 5
}
